{
 "cells": [
  {
   "cell_type": "markdown",
   "id": "67f78bdf",
   "metadata": {},
   "source": [
    "*Or how much longer does a turkey take to cook than a chicken?*\n",
    "\n",
    "The radial equation in spherical polars is:\n",
    "\n",
    "$D\\frac{1}{r^2}\\frac{\\partial}{\\partial r}(r^2\\frac{\\partial T}{\\partial r}) = \\frac{\\partial T}{\\partial t}$\n",
    "\n",
    "And in cylindrical polars is:\n",
    "\n",
    "$D\\frac{1}{r}\\frac{\\partial}{\\partial r}(r\\frac{\\partial T}{\\partial r}) = \\frac{\\partial T}{\\partial t}$\n",
    "\n",
    "Where:\n",
    "\n",
    "$D=\\frac{\\kappa}{c \\rho}$\n",
    "\n",
    "We are going to set the following boundary conditions. \n",
    "\n",
    "$\\frac{\\partial T}{\\partial r}=0$ at $r =0$ for all t\n",
    "\n",
    "$T(r_0)= 1$ for all t\n",
    "\n",
    "$T(r) = 0$ for $r<r_0$ at $t=0$\n",
    "\n",
    "There is an interesting point about the $r=0$ boundary condition. \n",
    "\n",
    "Let's expand the PDE for the spherical case:\n",
    "\n",
    "$D(\\frac{2}{r}\\frac{\\partial T}{\\partial r}+\\frac{\\partial ^2T}{\\partial r^2}) = \\frac{\\partial T}{\\partial t}$\n",
    "\n",
    "To figure out what to do with the first derivative at $r=0$ L'Hospital's rule is needed. \n",
    "\n",
    "So, the equation becomes (at $r=0$): \n",
    "\n",
    "$3D\\frac{\\partial ^2T}{\\partial r^2} = \\frac{\\partial T}{\\partial t}$\n",
    "\n",
    "Likewise for the cylindrical case\n",
    "\n",
    "$2D\\frac{\\partial ^2T}{\\partial r^2} = \\frac{\\partial T}{\\partial t}$\n",
    "\n",
    "\n"
   ]
  }
 ],
 "metadata": {
  "kernelspec": {
   "display_name": "Python 3 (ipykernel)",
   "language": "python",
   "name": "python3"
  },
  "language_info": {
   "codemirror_mode": {
    "name": "ipython",
    "version": 3
   },
   "file_extension": ".py",
   "mimetype": "text/x-python",
   "name": "python",
   "nbconvert_exporter": "python",
   "pygments_lexer": "ipython3",
   "version": "3.8.5"
  }
 },
 "nbformat": 4,
 "nbformat_minor": 5
}
