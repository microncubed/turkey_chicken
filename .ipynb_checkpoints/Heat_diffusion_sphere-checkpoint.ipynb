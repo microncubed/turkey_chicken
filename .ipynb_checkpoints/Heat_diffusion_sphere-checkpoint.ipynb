{
 "cells": [
  {
   "cell_type": "markdown",
   "metadata": {},
   "source": [
    "<h2>The heat diffusion equation in spherical and cylindrical coordinates</h2>\n",
    "\n",
    "*Or how much longer does a turkey take to cook than a chicken?*\n",
    "\n",
    "The radial equation in spherical polars is:\n",
    "\n",
    "$D\\frac{1}{r^2}\\frac{\\partial}{\\partial r}(r^2\\frac{\\partial T}{\\partial r}) = \\frac{\\partial T}{\\partial t}$\n",
    "\n",
    "And in cylindrical polars is:\n",
    "\n",
    "$D\\frac{1}{r}\\frac{\\partial}{\\partial r}(r\\frac{\\partial T}{\\partial r}) = \\frac{\\partial T}{\\partial t}$\n",
    "\n",
    "Where:\n",
    "\n",
    "$D=\\frac{\\kappa}{c \\rho}$\n",
    "\n",
    "We are going to set the following boundary conditions. \n",
    "\n",
    "$\\frac{\\partial T}{\\partial r}=0$ at $r =0$ for all t\n",
    "\n",
    "$T(r_0)= 1$ for all t\n",
    "\n",
    "$T(r) = 0$ for $r<r_0$ at $t=0$\n",
    "\n",
    "There is an interesting point about the $r=0$ boundary condition. \n",
    "\n",
    "Let's expand the PDE for the spherical case:\n",
    "\n",
    "$D(\\frac{2}{r}\\frac{\\partial T}{\\partial r}+\\frac{\\partial ^2T}{\\partial r^2}) = \\frac{\\partial T}{\\partial t}$\n",
    "\n",
    "To figure out what to do with the first derivative at $r=0$ L'Hospital's rule is needed. \n",
    "\n",
    "So, the equation becomes (at $r=0$): \n",
    "\n",
    "$3D\\frac{\\partial ^2T}{\\partial r^2} = \\frac{\\partial T}{\\partial t}$\n",
    "\n",
    "Likewise for the cylindrical case\n",
    "\n",
    "$2D\\frac{\\partial ^2T}{\\partial r^2} = \\frac{\\partial T}{\\partial t}$\n",
    "\n"
   ]
  },
  {
   "cell_type": "code",
   "execution_count": 1,
   "metadata": {},
   "outputs": [],
   "source": [
    "import matplotlib.pyplot as plt\n",
    "%matplotlib inline\n",
    "import numpy as np\n",
    "import matplotlib as mp\n",
    "font = {'size':14}\n",
    "mp.rc('font', **font)\n",
    "import json\n",
    "from turkey_chicken import build_matrix, forward_euler"
   ]
  },
  {
   "cell_type": "markdown",
   "metadata": {},
   "source": [
    "<h3>Set the parameters</h3>"
   ]
  },
  {
   "cell_type": "code",
   "execution_count": 2,
   "metadata": {},
   "outputs": [
    {
     "name": "stdout",
     "output_type": "stream",
     "text": [
      "Diffusivity = 1.429e-07 m2/s\n",
      "s = 0.141\n"
     ]
    }
   ],
   "source": [
    "## These are the user set values\n",
    "params = {'r_max':0.1,'n_r':101,'t_max':100,'n_t':101, 'T_r':10,'sphere':True,'k':0.6,'rho':1e3,'c':4200}\n",
    "\n",
    "## The derived parameters are below\n",
    "params['dt'] =params['t_max'] /params['n_t']\n",
    "params['dr'] = params['r_max']/(params['n_r']-1)\n",
    "params['D'] = params['k']/params['rho']/params['c']\n",
    "params['s'] = params['D']*params['dt']/params['dr']/params['dr']\n",
    "\n",
    "print('Diffusivity =','{:.3e}'.format(params['D']),'m2/s')\n",
    "print('s =','{:.3f}'.format(params['s']))\n",
    "\n",
    "fileName = 'output'\n",
    "\n",
    "with open(fileName + '.json','w') as f:\n",
    "    json.dump(params,f)\n",
    "    pass"
   ]
  },
  {
   "cell_type": "markdown",
   "metadata": {},
   "source": [
    "<h3>The matrix generation and time-stepping functions</h3>"
   ]
  },
  {
   "cell_type": "code",
   "execution_count": 3,
   "metadata": {},
   "outputs": [],
   "source": [
    "A = build_matrix(params['n_r'],params['s'],params['T_r'],params['sphere'])\n",
    "T_in = [0 for ii in range(params['n_r']-1)]\n",
    "T_in.append(params['T_r'])        \n",
    "T_list = forward_euler(T_in,params['n_t'],A)"
   ]
  },
  {
   "cell_type": "code",
   "execution_count": 4,
   "metadata": {},
   "outputs": [
    {
     "data": {
      "image/png": "[encoded data removed]",
      "text/plain": [
       "<Figure size 432x288 with 1 Axes>"
      ]
     },
     "metadata": {
      "needs_background": "light"
     },
     "output_type": "display_data"
    }
   ],
   "source": [
    "r_vals = np.linspace(params['dr'],params['r_max'],params['n_r'])\n",
    "\n",
    "fig,ax=plt.subplots(1,1,figsize=[6,4])\n",
    "for k in range (params['t_max']//10):\n",
    "    ax.plot(r_vals, T_list[k*10],'.-')\n",
    "ax.set_ylabel('Temperature (K)')\n",
    "ax.set_xlabel('Radial distance (m)')\n",
    "ax.set_xlim([r_vals[0],r_vals[-1]])\n",
    "fig.tight_layout()\n",
    "#fig.savefig('5cm_sphere_traces_360s_apart.png',facecolor='w',dpi=300)"
   ]
  },
  {
   "cell_type": "code",
   "execution_count": 8,
   "metadata": {},
   "outputs": [
    {
     "data": {
      "text/plain": [
       "[<matplotlib.lines.Line2D at 0x7f8830e8b730>]"
      ]
     },
     "execution_count": 8,
     "metadata": {},
     "output_type": "execute_result"
    },
    {
     "data": {
      "image/png": "[encoded data removed]",
      "text/plain": [
       "<Figure size 432x288 with 1 Axes>"
      ]
     },
     "metadata": {
      "needs_background": "light"
     },
     "output_type": "display_data"
    }
   ],
   "source": [
    "def T_an(t):\n",
    "    T_out = np.zeros(params['n_r']-1)\n",
    "    T_out[:] = params['T_r']\n",
    "    for i in range(1,100):\n",
    "        T_out += 2*params['r_max']*params['T_r']/np.pi/r_vals[1:]*(-1)**i/i*np.sin(np.pi*i*r_vals[1:]/params['r_max'])* \\\n",
    "        np.exp(-params['D']*i**2*np.pi**2*t/params['r_max']**2)\n",
    "    return T_out\n",
    "\n",
    "fig,ax = plt.subplots(1,1,figsize=[6,4])\n",
    "T_out = T_an(params['t_max'])\n",
    "ax.plot(r_vals[1:],T_out)\n",
    "ax.plot(r_vals,T_list[-1])"
   ]
  },
  {
   "cell_type": "code",
   "execution_count": null,
   "metadata": {},
   "outputs": [],
   "source": [
    "t_vals = [i*params['dt'] for i in range(params['n_t'])]\n",
    "fig,ax=plt.subplots(1,1,figsize=[6,4])\n",
    "\n",
    "time_trace = []\n",
    "for j in range(params['n_t']):\n",
    "    time_trace.append(T_list[j][0])\n",
    "ax.plot(t_vals, time_trace)\n",
    "ax.set_xlim([t_vals[0],t_vals[-1]])\n",
    "ax.set_ylabel('Temperature (K)')\n",
    "ax.set_xlabel('Time (s)')\n",
    "fig.tight_layout()\n",
    "\n",
    "#fig.savefig('5cm_sphere.png',facecolor='w',dpi=300)"
   ]
  },
  {
   "cell_type": "code",
   "execution_count": null,
   "metadata": {},
   "outputs": [],
   "source": []
  }
 ],
 "metadata": {
  "kernelspec": {
   "display_name": "Python 3 (ipykernel)",
   "language": "python",
   "name": "python3"
  },
  "language_info": {
   "codemirror_mode": {
    "name": "ipython",
    "version": 3
   },
   "file_extension": ".py",
   "mimetype": "text/x-python",
   "name": "python",
   "nbconvert_exporter": "python",
   "pygments_lexer": "ipython3",
   "version": "3.8.5"
  }
 },
 "nbformat": 4,
 "nbformat_minor": 4
}
